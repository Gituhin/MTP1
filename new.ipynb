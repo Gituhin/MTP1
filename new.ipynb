{
 "cells": [
  {
   "cell_type": "markdown",
   "metadata": {},
   "source": [
    "## Reading 2021 Data"
   ]
  },
  {
   "cell_type": "code",
   "execution_count": 1,
   "metadata": {},
   "outputs": [],
   "source": [
    "import pandas as pd\n",
    "import numpy as np"
   ]
  },
  {
   "cell_type": "code",
   "execution_count": 96,
   "metadata": {},
   "outputs": [],
   "source": [
    "headers_name = [\"Stn_code\", \"Location\", \"State_Name\", \"Temp_min\", \"Temp_max\", \"pH_min\", \"pH_max\",\n",
    "                \"conduc_min\", \"conduc_max\", \"bod_min\", \"bod_max\", \"nitrate_min\", \"nitrate_max\",\n",
    "                \"Fcoli_min\", 'Fcoli_max', \"Tcoli_min\", \"Tcoli_max\", \"Tds_min\", \"Tds_max\", \"F_min\",\n",
    "                \"F_max\", \"Ar_min\", \"Ar_max\"]"
   ]
  },
  {
   "cell_type": "code",
   "execution_count": 97,
   "metadata": {},
   "outputs": [
    {
     "name": "stdout",
     "output_type": "stream",
     "text": [
      "(1090, 23)\n"
     ]
    },
    {
     "data": {
      "text/html": [
       "<div>\n",
       "<style scoped>\n",
       "    .dataframe tbody tr th:only-of-type {\n",
       "        vertical-align: middle;\n",
       "    }\n",
       "\n",
       "    .dataframe tbody tr th {\n",
       "        vertical-align: top;\n",
       "    }\n",
       "\n",
       "    .dataframe thead th {\n",
       "        text-align: right;\n",
       "    }\n",
       "</style>\n",
       "<table border=\"1\" class=\"dataframe\">\n",
       "  <thead>\n",
       "    <tr style=\"text-align: right;\">\n",
       "      <th></th>\n",
       "      <th>Stn_code</th>\n",
       "      <th>Location</th>\n",
       "      <th>State_Name</th>\n",
       "      <th>Temp_min</th>\n",
       "      <th>Temp_max</th>\n",
       "      <th>pH_min</th>\n",
       "      <th>pH_max</th>\n",
       "      <th>conduc_min</th>\n",
       "      <th>conduc_max</th>\n",
       "      <th>bod_min</th>\n",
       "      <th>...</th>\n",
       "      <th>Fcoli_min</th>\n",
       "      <th>Fcoli_max</th>\n",
       "      <th>Tcoli_min</th>\n",
       "      <th>Tcoli_max</th>\n",
       "      <th>Tds_min</th>\n",
       "      <th>Tds_max</th>\n",
       "      <th>F_min</th>\n",
       "      <th>F_max</th>\n",
       "      <th>Ar_min</th>\n",
       "      <th>Ar_max</th>\n",
       "    </tr>\n",
       "  </thead>\n",
       "  <tbody>\n",
       "    <tr>\n",
       "      <th>0</th>\n",
       "      <td>3092.0</td>\n",
       "      <td>BORE WELL AT ARINAMA AKKIVALASA, SRIKAKULAM</td>\n",
       "      <td>ANDHRA PRADESH</td>\n",
       "      <td>28</td>\n",
       "      <td>31</td>\n",
       "      <td>7.4</td>\n",
       "      <td>8.1</td>\n",
       "      <td>712</td>\n",
       "      <td>1139</td>\n",
       "      <td>2</td>\n",
       "      <td>...</td>\n",
       "      <td>3</td>\n",
       "      <td>4</td>\n",
       "      <td>64</td>\n",
       "      <td>75</td>\n",
       "      <td>492</td>\n",
       "      <td>754</td>\n",
       "      <td>1</td>\n",
       "      <td>1.1</td>\n",
       "      <td>0.001</td>\n",
       "      <td>0.001</td>\n",
       "    </tr>\n",
       "    <tr>\n",
       "      <th>1</th>\n",
       "      <td>4360.0</td>\n",
       "      <td>BORE WELL AT IDA,\\nRAMANAYYAPETA, KKAINADA</td>\n",
       "      <td>ANDHRA PRADESH</td>\n",
       "      <td>27</td>\n",
       "      <td>29</td>\n",
       "      <td>7.7</td>\n",
       "      <td>7.8</td>\n",
       "      <td>990</td>\n",
       "      <td>1280</td>\n",
       "      <td>1.8</td>\n",
       "      <td>...</td>\n",
       "      <td>2</td>\n",
       "      <td>7</td>\n",
       "      <td>75</td>\n",
       "      <td>93</td>\n",
       "      <td>660</td>\n",
       "      <td>868</td>\n",
       "      <td>0.4</td>\n",
       "      <td>0.4</td>\n",
       "      <td>0.007</td>\n",
       "      <td>0.009</td>\n",
       "    </tr>\n",
       "    <tr>\n",
       "      <th>2</th>\n",
       "      <td>3091.0</td>\n",
       "      <td>BORE WELL AT KAPULUPPADA\\nDUMPSITE, VISHAKHAPA...</td>\n",
       "      <td>ANDHRA PRADESH</td>\n",
       "      <td>26</td>\n",
       "      <td>26</td>\n",
       "      <td>7.0</td>\n",
       "      <td>7.1</td>\n",
       "      <td>3340</td>\n",
       "      <td>4260</td>\n",
       "      <td>2.2</td>\n",
       "      <td>...</td>\n",
       "      <td>4</td>\n",
       "      <td>7</td>\n",
       "      <td>93</td>\n",
       "      <td>93</td>\n",
       "      <td>2320</td>\n",
       "      <td>2832</td>\n",
       "      <td>0.8</td>\n",
       "      <td>1.1</td>\n",
       "      <td>0.001</td>\n",
       "      <td>0.001</td>\n",
       "    </tr>\n",
       "  </tbody>\n",
       "</table>\n",
       "<p>3 rows × 23 columns</p>\n",
       "</div>"
      ],
      "text/plain": [
       "   Stn_code                                           Location  \\\n",
       "0    3092.0        BORE WELL AT ARINAMA AKKIVALASA, SRIKAKULAM   \n",
       "1    4360.0         BORE WELL AT IDA,\\nRAMANAYYAPETA, KKAINADA   \n",
       "2    3091.0  BORE WELL AT KAPULUPPADA\\nDUMPSITE, VISHAKHAPA...   \n",
       "\n",
       "       State_Name Temp_min Temp_max  pH_min  pH_max conduc_min conduc_max  \\\n",
       "0  ANDHRA PRADESH       28       31     7.4     8.1        712       1139   \n",
       "1  ANDHRA PRADESH       27       29     7.7     7.8        990       1280   \n",
       "2  ANDHRA PRADESH       26       26     7.0     7.1       3340       4260   \n",
       "\n",
       "  bod_min  ... Fcoli_min Fcoli_max Tcoli_min Tcoli_max Tds_min Tds_max F_min  \\\n",
       "0       2  ...         3         4        64        75     492     754     1   \n",
       "1     1.8  ...         2         7        75        93     660     868   0.4   \n",
       "2     2.2  ...         4         7        93        93    2320    2832   0.8   \n",
       "\n",
       "  F_max Ar_min Ar_max  \n",
       "0   1.1  0.001  0.001  \n",
       "1   0.4  0.007  0.009  \n",
       "2   1.1  0.001  0.001  \n",
       "\n",
       "[3 rows x 23 columns]"
      ]
     },
     "execution_count": 97,
     "metadata": {},
     "output_type": "execute_result"
    }
   ],
   "source": [
    "data = pd.read_excel(\"NWMP_DATA_2021.xlsx\", engine=\"openpyxl\", skiprows=[0], header=[1])\n",
    "data.columns.values[0:data.shape[1]] = headers_name\n",
    "print(data.shape)\n",
    "data.head(3)"
   ]
  },
  {
   "cell_type": "code",
   "execution_count": 40,
   "metadata": {},
   "outputs": [],
   "source": [
    "data.drop(['Stn_code', \"Location\", \"State_Name\"], axis=1, inplace=True)\n",
    "data.replace({'-':np.nan}, inplace=True)"
   ]
  },
  {
   "cell_type": "code",
   "execution_count": 66,
   "metadata": {},
   "outputs": [],
   "source": [
    "data_N= data.dropna(subset=['nitrate_min'])\n",
    "data_F = data.dropna(subset=['F_min'])\n",
    "data_Ar = data.dropna(subset=['Ar_min'])"
   ]
  },
  {
   "cell_type": "markdown",
   "metadata": {},
   "source": [
    "## Reading 2020 Data"
   ]
  },
  {
   "cell_type": "code",
   "execution_count": 68,
   "metadata": {},
   "outputs": [],
   "source": [
    "import pandas as pd\n",
    "import numpy as np"
   ]
  },
  {
   "cell_type": "code",
   "execution_count": 88,
   "metadata": {},
   "outputs": [],
   "source": [
    "headers_name = [\"Stn_code\", \"Location\", \"State_Name\", \"Temp_min\", \"Temp_max\", \"pH_min\", \"pH_max\",\n",
    "                \"conduc_min\", \"conduc_max\", \"bod_min\", \"bod_max\", \"nitrate_min\", \"nitrate_max\",\n",
    "                \"Fcoli_min\", 'Fcoli_max', \"Tcoli_min\", \"Tcoli_max\", \"FS_min\", \"FS_max\", \"Tds_min\",\n",
    "                \"Tds_max\", \"F_min\", \"F_max\", \"Ar_min\", \"Ar_max\"]"
   ]
  },
  {
   "cell_type": "code",
   "execution_count": 94,
   "metadata": {},
   "outputs": [
    {
     "data": {
      "text/plain": [
       "(942, 25)"
      ]
     },
     "execution_count": 94,
     "metadata": {},
     "output_type": "execute_result"
    }
   ],
   "source": [
    "data = pd.read_excel(\"NWMP_DATA_2020.xlsx\", engine=\"openpyxl\", sheet_name=\"Table 1\", header=[1])\n",
    "data.columns.values[0:data.shape[1]] = headers_name\n",
    "\n",
    "for table in range(2, 30, 1):\n",
    "  if table==14: continue\n",
    "  data_temp = pd.read_excel(\"NWMP_DATA_2020.xlsx\", engine=\"openpyxl\", sheet_name=f\"Table {table}\", header=[1])\n",
    "  data_temp.columns.values[0:data_temp.shape[1]] = headers_name\n",
    "  data = pd.concat([data, data_temp], axis=0)\n",
    "\n",
    "data.shape\n"
   ]
  },
  {
   "cell_type": "code",
   "execution_count": 95,
   "metadata": {},
   "outputs": [],
   "source": [
    "data.to_csv(\"Data_2020_combined.csv\")"
   ]
  },
  {
   "cell_type": "markdown",
   "metadata": {},
   "source": [
    "# Analysis Post processing"
   ]
  },
  {
   "cell_type": "code",
   "execution_count": 1,
   "metadata": {},
   "outputs": [],
   "source": [
    "import pandas as pd\n",
    "import numpy as np"
   ]
  },
  {
   "cell_type": "code",
   "execution_count": 7,
   "metadata": {},
   "outputs": [],
   "source": [
    "data21 = pd.read_csv(\"Data_2021_combined.csv\")\n",
    "#data21.head(6)"
   ]
  },
  {
   "cell_type": "code",
   "execution_count": 26,
   "metadata": {},
   "outputs": [
    {
     "name": "stdout",
     "output_type": "stream",
     "text": [
      "<class 'pandas.core.frame.DataFrame'>\n",
      "Index: 1082 entries, 0 to 1089\n",
      "Data columns (total 21 columns):\n",
      " #   Column       Non-Null Count  Dtype  \n",
      "---  ------       --------------  -----  \n",
      " 0   Unnamed: 0   1082 non-null   int64  \n",
      " 1   Temp_min     1082 non-null   float64\n",
      " 2   Temp_max     1082 non-null   float64\n",
      " 3   pH_min       1082 non-null   float64\n",
      " 4   pH_max       1082 non-null   float64\n",
      " 5   conduc_min   1082 non-null   int64  \n",
      " 6   conduc_max   1082 non-null   int64  \n",
      " 7   bod_min      1082 non-null   float64\n",
      " 8   bod_max      1082 non-null   float64\n",
      " 9   nitrate_min  1082 non-null   float64\n",
      " 10  nitrate_max  1082 non-null   float64\n",
      " 11  Fcoli_min    1082 non-null   int64  \n",
      " 12  Fcoli_max    1082 non-null   int64  \n",
      " 13  Tcoli_min    1082 non-null   int64  \n",
      " 14  Tcoli_max    1082 non-null   int64  \n",
      " 15  Tds_min      1082 non-null   int64  \n",
      " 16  Tds_max      1082 non-null   int64  \n",
      " 17  F_min        1082 non-null   float64\n",
      " 18  F_max        1082 non-null   float64\n",
      " 19  Ar_min       1082 non-null   float64\n",
      " 20  Ar_max       1082 non-null   float64\n",
      "dtypes: float64(12), int64(9)\n",
      "memory usage: 186.0 KB\n"
     ]
    }
   ],
   "source": [
    "data21 = data21.replace({'-':-1})\n",
    "data21.dropna(how='all', inplace=True)\n",
    "#data21 = data21.apply(pd.to_numeric)\n",
    "data21.drop(data21[data21['State_Name'].isna()].index, axis=0, inplace=True)\n",
    "data_num = data21.drop(['Stn_code', 'Location', 'State_Name'], axis=1)\n",
    "data_num = data_num.apply(pd.to_numeric)\n",
    "data_num.info()"
   ]
  },
  {
   "cell_type": "code",
   "execution_count": 37,
   "metadata": {},
   "outputs": [
    {
     "data": {
      "text/plain": [
       "nitrate_max\n",
       "False    965\n",
       "True     117\n",
       "Name: count, dtype: int64"
      ]
     },
     "execution_count": 37,
     "metadata": {},
     "output_type": "execute_result"
    }
   ],
   "source": [
    "(data_num['nitrate_max']==-1).value_counts()"
   ]
  },
  {
   "cell_type": "code",
   "execution_count": 53,
   "metadata": {},
   "outputs": [],
   "source": [
    "data20 = pd.read_csv(\"Data_2020_combined.csv\")\n",
    "#data20.head(6)"
   ]
  },
  {
   "cell_type": "code",
   "execution_count": 57,
   "metadata": {},
   "outputs": [
    {
     "name": "stdout",
     "output_type": "stream",
     "text": [
      "<class 'pandas.core.frame.DataFrame'>\n",
      "RangeIndex: 934 entries, 0 to 933\n",
      "Data columns (total 21 columns):\n",
      " #   Column       Non-Null Count  Dtype  \n",
      "---  ------       --------------  -----  \n",
      " 0   Unnamed: 0   934 non-null    int64  \n",
      " 1   Temp_min     934 non-null    float64\n",
      " 2   Temp_max     934 non-null    float64\n",
      " 3   pH_min       934 non-null    float64\n",
      " 4   pH_max       934 non-null    float64\n",
      " 5   conduc_min   934 non-null    float64\n",
      " 6   conduc_max   934 non-null    float64\n",
      " 7   bod_min      934 non-null    float64\n",
      " 8   bod_max      934 non-null    float64\n",
      " 9   nitrate_min  934 non-null    float64\n",
      " 10  nitrate_max  934 non-null    float64\n",
      " 11  Fcoli_min    934 non-null    float64\n",
      " 12  Fcoli_max    934 non-null    float64\n",
      " 13  Tcoli_min    934 non-null    float64\n",
      " 14  Tcoli_max    934 non-null    float64\n",
      " 15  Tds_min      934 non-null    float64\n",
      " 16  Tds_max      934 non-null    float64\n",
      " 17  F_min        934 non-null    float64\n",
      " 18  F_max        934 non-null    float64\n",
      " 19  Ar_min       933 non-null    float64\n",
      " 20  Ar_max       933 non-null    float64\n",
      "dtypes: float64(20), int64(1)\n",
      "memory usage: 153.4 KB\n"
     ]
    }
   ],
   "source": [
    "data20 = data20.replace('\\n','', regex=True)\n",
    "data20 = data20.replace({'-':-1, 'BDL':0})\n",
    "data20.dropna(how='all', inplace=True)\n",
    "#data20 = data20.apply(pd.to_numeric)\n",
    "data20.drop(data20[data20['State_Name'].isna()].index, axis=0, inplace=True)\n",
    "data_num1 = data20.drop(['Stn_code', 'Location', 'State_Name', 'FS_min', 'FS_max'], axis=1)\n",
    "data_num1 = data_num1.apply(pd.to_numeric)\n",
    "data_num1.info()"
   ]
  },
  {
   "cell_type": "code",
   "execution_count": 58,
   "metadata": {},
   "outputs": [
    {
     "data": {
      "text/plain": [
       "(2016, 21)"
      ]
     },
     "execution_count": 58,
     "metadata": {},
     "output_type": "execute_result"
    }
   ],
   "source": [
    "final_data = pd.concat([data_num, data_num1], axis=0)\n",
    "final_data.shape"
   ]
  }
 ],
 "metadata": {
  "kernelspec": {
   "display_name": "MTP_analysis",
   "language": "python",
   "name": "python3"
  },
  "language_info": {
   "codemirror_mode": {
    "name": "ipython",
    "version": 3
   },
   "file_extension": ".py",
   "mimetype": "text/x-python",
   "name": "python",
   "nbconvert_exporter": "python",
   "pygments_lexer": "ipython3",
   "version": "3.11.3"
  },
  "orig_nbformat": 4
 },
 "nbformat": 4,
 "nbformat_minor": 2
}
